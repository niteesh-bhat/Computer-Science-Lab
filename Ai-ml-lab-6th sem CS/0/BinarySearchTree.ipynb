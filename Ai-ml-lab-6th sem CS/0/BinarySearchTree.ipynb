{
 "cells": [
  {
   "cell_type": "code",
   "execution_count": 1,
   "id": "f8fc9756",
   "metadata": {},
   "outputs": [],
   "source": [
    "class Node:\n",
    "\tdef __init__(self, value):\n",
    "\t\tself.left=None\n",
    "\t\tself.right=None\n",
    "\t\t\n",
    "\t\tself.value=value\n",
    "\t\t\n",
    "\n",
    "\n",
    "class BST:\n",
    "\tdef __init__(self):\n",
    "\t\tself.root = None\n",
    "\t\t\n",
    "\t\n",
    "\tdef insert(self, value):\n",
    "\t\tif self.root == None:\n",
    "\t\t\tself.root=Node(value)\n",
    "\t\telse:\n",
    "\t\t\tparent=None;\n",
    "\t\t\tcurrent=self.root;\n",
    "\t\t\t\n",
    "\t\t\twhile current != None:\n",
    "\t\t\t\tparent=current\n",
    "\t\t\t\t\n",
    "\t\t\t\tif current.value>value:\n",
    "\t\t\t\t\tcurrent=current.left\n",
    "\t\t\t\telse:\n",
    "\t\t\t\t\tcurrent=current.right\n",
    "\t\t\t\t\t\n",
    "\t\t\t\n",
    "\t\t\tif parent.value>value :\n",
    "\t\t\t\tparent.left=Node(value)\n",
    "\t\t\telse:\n",
    "\t\t\t\tparent.right=Node(value)\n",
    "\t\t\t\t\n",
    "\t\t\t\t\n",
    "\tdef inorder(self):\n",
    "\t\tans=[]\n",
    "\t\t\n",
    "\t\tdef _inorder(_root):\n",
    "\t\t\tif _root == None:\n",
    "\t\t\t\treturn\n",
    "\t\t\t\n",
    "\t\t\t\n",
    "\t\t\t_inorder(_root.left)\n",
    "\t\t\tans.append(_root.value)\n",
    "\t\t\t_inorder(_root.right)\n",
    "\t\t\t\n",
    "\t\t\n",
    "\t\t_inorder(self.root)\n",
    "\n",
    "\t\t\n",
    "        print(ans)\n",
    "\t\n",
    "\t\t\t\t\n",
    "\tdef preorder(self):\n",
    "\t\tans=[]\n",
    "\t\t\n",
    "\t\tdef _preorder(_root):\n",
    "\t\t\tif _root == None:\n",
    "\t\t\t\treturn\n",
    "\t\t\t\n",
    "\t\t\t\n",
    "\t\t\tans.append(_root.value)\n",
    "\t\t\t_preorder(_root.left)\n",
    "\t\t\t_preorder(_root.right)\n",
    "\t\t\t\n",
    "\t\t\n",
    "\t\t_preorder(self.root)\n",
    "\n",
    "\t\t\n",
    "        print(ans)\n",
    "\n",
    "\n",
    "\tdef postorder(self):\n",
    "\t\tans=[]\n",
    "\t\t\n",
    "\t\tdef _postorder(_root):\n",
    "\t\t\tif _root == None:\n",
    "\t\t\t\treturn\n",
    "\t\t\t\n",
    "\t\t\t\n",
    "\t\t\t_postorder(_root.left)\n",
    "\t\t\t_postorder(_root.right)\n",
    "\t\t\tans.append(_root.value)\n",
    "\t\t\t\n",
    "\t\t\n",
    "\t\t_postorder(self.root)\n",
    "\n",
    "        print(ans)"
   ]
  },
  {
   "cell_type": "code",
   "execution_count": 5,
   "id": "a4ca176a",
   "metadata": {},
   "outputs": [],
   "source": [
    "bst=BST()\n",
    "\n",
    "bst.insert(50)\n",
    "bst.insert(23)\n",
    "bst.insert(15)\n",
    "bst.insert(89)\n",
    "bst.insert(100)\n",
    "bst.insert(35)\n",
    "bst.insert(20)"
   ]
  },
  {
   "cell_type": "code",
   "execution_count": 9,
   "id": "03a74907",
   "metadata": {},
   "outputs": [
    {
     "data": {
      "text/plain": [
       "[15, 20, 23, 35, 50, 89, 100]"
      ]
     },
     "execution_count": 9,
     "metadata": {},
     "output_type": "execute_result"
    }
   ],
   "source": [
    "bst.inorder()"
   ]
  },
  {
   "cell_type": "code",
   "execution_count": 10,
   "id": "14da70e8",
   "metadata": {},
   "outputs": [
    {
     "data": {
      "text/plain": [
       "[50, 23, 15, 20, 35, 89, 100]"
      ]
     },
     "execution_count": 10,
     "metadata": {},
     "output_type": "execute_result"
    }
   ],
   "source": [
    "bst.preorder()"
   ]
  },
  {
   "cell_type": "code",
   "execution_count": 11,
   "id": "148d2b93",
   "metadata": {},
   "outputs": [
    {
     "data": {
      "text/plain": [
       "[20, 15, 35, 23, 100, 89, 50]"
      ]
     },
     "execution_count": 11,
     "metadata": {},
     "output_type": "execute_result"
    }
   ],
   "source": [
    "bst.postorder()"
   ]
  },
  {
   "cell_type": "code",
   "execution_count": null,
   "id": "fbf6c8a7",
   "metadata": {},
   "outputs": [],
   "source": []
  }
 ],
 "metadata": {
  "kernelspec": {
   "display_name": "Python 3 (ipykernel)",
   "language": "python",
   "name": "python3"
  },
  "language_info": {
   "codemirror_mode": {
    "name": "ipython",
    "version": 3
   },
   "file_extension": ".py",
   "mimetype": "text/x-python",
   "name": "python",
   "nbconvert_exporter": "python",
   "pygments_lexer": "ipython3",
   "version": "3.9.7"
  }
 },
 "nbformat": 4,
 "nbformat_minor": 5
}
