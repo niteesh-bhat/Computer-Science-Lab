{
 "cells": [
  {
   "cell_type": "code",
   "execution_count": 1,
   "id": "7be84f3e",
   "metadata": {},
   "outputs": [],
   "source": [
    "def towerOfHanoi(n, S, T, D):\n",
    "\tif n==1:\n",
    "\t\tprint(\"Move \" , (n) , \" from \" , S , \" to \" , D)\n",
    "\t\treturn\n",
    "\n",
    "\ttowerOfHanoi(n-1, S, D, T)\n",
    "\tprint(\"Move \" , (n) , \" from \" , S , \" to \" , D)\n",
    "\ttowerOfHanoi(n-1, T, S, D)"
   ]
  },
  {
   "cell_type": "code",
   "execution_count": 2,
   "id": "ea1e2771",
   "metadata": {},
   "outputs": [
    {
     "name": "stdout",
     "output_type": "stream",
     "text": [
      "Move  1  from  source  to  destination\n",
      "Move  2  from  source  to  temporary\n",
      "Move  1  from  destination  to  temporary\n",
      "Move  3  from  source  to  destination\n",
      "Move  1  from  temporary  to  source\n",
      "Move  2  from  temporary  to  destination\n",
      "Move  1  from  source  to  destination\n"
     ]
    }
   ],
   "source": [
    "towerOfHanoi(3, \"source\", \"temporary\", \"destination\")"
   ]
  },
  {
   "cell_type": "code",
   "execution_count": null,
   "id": "f9b23ec3",
   "metadata": {},
   "outputs": [],
   "source": []
  }
 ],
 "metadata": {
  "kernelspec": {
   "display_name": "Python 3 (ipykernel)",
   "language": "python",
   "name": "python3"
  },
  "language_info": {
   "codemirror_mode": {
    "name": "ipython",
    "version": 3
   },
   "file_extension": ".py",
   "mimetype": "text/x-python",
   "name": "python",
   "nbconvert_exporter": "python",
   "pygments_lexer": "ipython3",
   "version": "3.9.7"
  }
 },
 "nbformat": 4,
 "nbformat_minor": 5
}
