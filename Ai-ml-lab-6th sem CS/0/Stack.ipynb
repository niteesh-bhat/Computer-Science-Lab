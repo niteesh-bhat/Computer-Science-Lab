{
 "cells": [
  {
   "cell_type": "code",
   "execution_count": 1,
   "id": "8a118ee7",
   "metadata": {},
   "outputs": [],
   "source": [
    "class Stack:\n",
    "\titems=[]\n",
    "\t\n",
    "\tdef push(self, value):\n",
    "\t\tself.items.append(value)\n",
    "\n",
    "\tdef pop(self):\n",
    "\t\treturn self.items.pop()"
   ]
  },
  {
   "cell_type": "code",
   "execution_count": 3,
   "id": "71ef252c",
   "metadata": {},
   "outputs": [],
   "source": [
    "S=Stack()\n",
    "\n",
    "S.push(10)\n",
    "S.push(20)\n",
    "S.push(30)\n",
    "S.push(40)\n",
    "S.push(50)"
   ]
  },
  {
   "cell_type": "code",
   "execution_count": 4,
   "id": "bc988873",
   "metadata": {},
   "outputs": [
    {
     "name": "stdout",
     "output_type": "stream",
     "text": [
      "50\n"
     ]
    }
   ],
   "source": [
    "print(S.pop())"
   ]
  },
  {
   "cell_type": "code",
   "execution_count": 5,
   "id": "4d2ed249",
   "metadata": {},
   "outputs": [
    {
     "name": "stdout",
     "output_type": "stream",
     "text": [
      "40\n"
     ]
    }
   ],
   "source": [
    "print(S.pop())"
   ]
  },
  {
   "cell_type": "code",
   "execution_count": 6,
   "id": "69f3d7cc",
   "metadata": {},
   "outputs": [
    {
     "name": "stdout",
     "output_type": "stream",
     "text": [
      "30\n"
     ]
    }
   ],
   "source": [
    "print(S.pop())"
   ]
  },
  {
   "cell_type": "code",
   "execution_count": 7,
   "id": "7101a2dc",
   "metadata": {},
   "outputs": [
    {
     "name": "stdout",
     "output_type": "stream",
     "text": [
      "20\n"
     ]
    }
   ],
   "source": [
    "print(S.pop())"
   ]
  },
  {
   "cell_type": "code",
   "execution_count": 8,
   "id": "f9954031",
   "metadata": {},
   "outputs": [
    {
     "name": "stdout",
     "output_type": "stream",
     "text": [
      "10\n"
     ]
    }
   ],
   "source": [
    "print(S.pop())"
   ]
  },
  {
   "cell_type": "code",
   "execution_count": 9,
   "id": "690063bb",
   "metadata": {},
   "outputs": [
    {
     "name": "stdout",
     "output_type": "stream",
     "text": [
      "50\n"
     ]
    }
   ],
   "source": []
  },
  {
   "cell_type": "code",
   "execution_count": 10,
   "id": "a9b240a7",
   "metadata": {},
   "outputs": [
    {
     "name": "stdout",
     "output_type": "stream",
     "text": [
      "40\n"
     ]
    }
   ],
   "source": []
  },
  {
   "cell_type": "code",
   "execution_count": null,
   "id": "6d5136ee",
   "metadata": {},
   "outputs": [],
   "source": []
  }
 ],
 "metadata": {
  "kernelspec": {
   "display_name": "Python 3 (ipykernel)",
   "language": "python",
   "name": "python3"
  },
  "language_info": {
   "codemirror_mode": {
    "name": "ipython",
    "version": 3
   },
   "file_extension": ".py",
   "mimetype": "text/x-python",
   "name": "python",
   "nbconvert_exporter": "python",
   "pygments_lexer": "ipython3",
   "version": "3.9.7"
  }
 },
 "nbformat": 4,
 "nbformat_minor": 5
}
