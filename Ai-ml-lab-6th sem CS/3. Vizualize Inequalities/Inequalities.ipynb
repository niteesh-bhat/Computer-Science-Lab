{
 "cells": [
  {
   "cell_type": "code",
   "execution_count": 1,
   "id": "fd66e6d5",
   "metadata": {},
   "outputs": [],
   "source": [
    "import numpy as np\n",
    "from matplotlib import pyplot as plt"
   ]
  },
  {
   "cell_type": "code",
   "execution_count": 2,
   "id": "ea8a2fa9",
   "metadata": {},
   "outputs": [],
   "source": [
    "def plot_vector2d(label, vector, color='r', origin=(0, 0)):\n",
    "    vector=np.array(vector)\n",
    "    origin=np.array(origin)\n",
    "    plt.quiver(*origin, *vector, angles='xy', scale_units='xy', scale=1, color=color)\n",
    "    plt.text(*(vector+origin+0.5), label)"
   ]
  },
  {
   "cell_type": "code",
   "execution_count": 10,
   "id": "d2e90813",
   "metadata": {},
   "outputs": [
    {
     "data": {
      "image/png": "[encoded data removed]",
      "text/plain": [
       "<Figure size 432x288 with 1 Axes>"
      ]
     },
     "metadata": {
      "needs_background": "light"
     },
     "output_type": "display_data"
    }
   ],
   "source": [
    "plt.grid(b=True, which='major')\n",
    "plt.xlim([-2, 12])\n",
    "plt.ylim([-2, 12])\n",
    "\n",
    "v1=np.array([8, 6])\n",
    "v2=np.array([-3, 4])\n",
    "\n",
    "plot_vector2d(f\"|v1| = {np.linalg.norm(v1)}\", v1, color='r')\n",
    "plot_vector2d(f\"|v2| = {np.linalg.norm(v2)}\", v2, color='g', origin=v1)\n",
    "plot_vector2d(f\"|v1+v2| = {np.linalg.norm(v1+v2)}\", v1+v2, color='b')"
   ]
  },
  {
   "cell_type": "code",
   "execution_count": 11,
   "id": "fee5c19b",
   "metadata": {},
   "outputs": [
    {
     "name": "stdout",
     "output_type": "stream",
     "text": [
      "Triangle inequality is satisfied.\n"
     ]
    }
   ],
   "source": [
    "# triangle inequality\n",
    "v1_mag=np.linalg.norm(v1)\n",
    "v2_mag=np.linalg.norm(v2)\n",
    "v1v2_mag=np.linalg.norm(v1+v2)\n",
    "\n",
    "if v1v2_mag <= v1_mag+v2_mag:\n",
    "    print(\"Triangle inequality is satisfied.\")\n",
    "else:\n",
    "    print(\"Triangle inequality is not satisfied.\")"
   ]
  },
  {
   "cell_type": "code",
   "execution_count": 12,
   "id": "9c1e76de",
   "metadata": {},
   "outputs": [
    {
     "name": "stdout",
     "output_type": "stream",
     "text": [
      "Schwartz inequality is satisfied.\n"
     ]
    }
   ],
   "source": [
    "# schwartz inequality\n",
    "v1_mag=np.linalg.norm(v1)\n",
    "v2_mag=np.linalg.norm(v2)\n",
    "v1v2_dot_mag=np.abs(np.dot(v1, v2))\n",
    "\n",
    "if v1v2_dot_mag <= v1_mag*v2_mag:\n",
    "    print(\"Schwartz inequality is satisfied.\")\n",
    "else:\n",
    "    print(\"Schwartz inequality is not satisfied.\")"
   ]
  },
  {
   "cell_type": "code",
   "execution_count": null,
   "id": "2b489af0",
   "metadata": {},
   "outputs": [],
   "source": []
  }
 ],
 "metadata": {
  "kernelspec": {
   "display_name": "Python 3",
   "language": "python",
   "name": "python3"
  },
  "language_info": {
   "codemirror_mode": {
    "name": "ipython",
    "version": 3
   },
   "file_extension": ".py",
   "mimetype": "text/x-python",
   "name": "python",
   "nbconvert_exporter": "python",
   "pygments_lexer": "ipython3",
   "version": "3.9.6"
  }
 },
 "nbformat": 4,
 "nbformat_minor": 5
}
