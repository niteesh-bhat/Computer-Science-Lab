{
 "cells": [
  {
   "cell_type": "code",
   "execution_count": 2,
   "id": "6f10e78a",
   "metadata": {},
   "outputs": [],
   "source": [
    "from queue import PriorityQueue\n",
    "\n",
    "v=14\n",
    "\n",
    "graph=[[] for _ in range(v)]"
   ]
  },
  {
   "cell_type": "code",
   "execution_count": 3,
   "id": "7de09a9e",
   "metadata": {},
   "outputs": [],
   "source": [
    "def bfs(source, target, n):\n",
    "    visited=[False]*n\n",
    "    visited[source]=True\n",
    "    \n",
    "    PQ=PriorityQueue()\n",
    "    \n",
    "    PQ.put((0, source))\n",
    "    \n",
    "    while PQ.empty() == False :\n",
    "        u=PQ.get()[1]\n",
    "        \n",
    "        print(u, end=\" \")\n",
    "        \n",
    "        if u==target: \n",
    "            break\n",
    "            \n",
    "        for v, cost in graph[u]:\n",
    "            if visited[v] == False:\n",
    "                visited[v] = True\n",
    "                PQ.put((cost,v))\n",
    "        \n",
    "    print()"
   ]
  },
  {
   "cell_type": "code",
   "execution_count": 4,
   "id": "46a68eb5",
   "metadata": {},
   "outputs": [],
   "source": [
    "def addEdge(x, y, cost):\n",
    "    graph[x].append((y, cost))\n",
    "    graph[y].append((x, cost))"
   ]
  },
  {
   "cell_type": "code",
   "execution_count": 5,
   "id": "e0df6017",
   "metadata": {},
   "outputs": [],
   "source": [
    "addEdge(0, 1, 3)\n",
    "addEdge(0, 2, 6)\n",
    "addEdge(0, 3, 5)\n",
    "addEdge(1, 4, 9)\n",
    "addEdge(1, 5, 8)\n",
    "addEdge(2, 6, 12)\n",
    "addEdge(2, 7, 14)\n",
    "addEdge(3, 8, 7)\n",
    "addEdge(8, 9, 5)\n",
    "addEdge(8, 10, 6)\n",
    "addEdge(9, 11, 1)\n",
    "addEdge(9, 12, 10)\n",
    "addEdge(9, 13, 2)"
   ]
  },
  {
   "cell_type": "code",
   "execution_count": 6,
   "id": "a0a20905",
   "metadata": {
    "scrolled": false
   },
   "outputs": [
    {
     "name": "stdout",
     "output_type": "stream",
     "text": [
      "0 1 3 2 8 9 \n"
     ]
    }
   ],
   "source": [
    "source=0\n",
    "target=9\n",
    "\n",
    "bfs(source, target, v)"
   ]
  },
  {
   "cell_type": "code",
   "execution_count": null,
   "id": "41b2c97f",
   "metadata": {},
   "outputs": [],
   "source": []
  }
 ],
 "metadata": {
  "kernelspec": {
   "display_name": "Python 3 (ipykernel)",
   "language": "python",
   "name": "python3"
  },
  "language_info": {
   "codemirror_mode": {
    "name": "ipython",
    "version": 3
   },
   "file_extension": ".py",
   "mimetype": "text/x-python",
   "name": "python",
   "nbconvert_exporter": "python",
   "pygments_lexer": "ipython3",
   "version": "3.9.7"
  }
 },
 "nbformat": 4,
 "nbformat_minor": 5
}
