{
 "cells": [
  {
   "cell_type": "code",
   "execution_count": 53,
   "id": "171afca0",
   "metadata": {},
   "outputs": [],
   "source": [
    "n=8\n",
    "board= [[0]*n for _ in range(n)]\n",
    "\n",
    "def pp_board(board):\n",
    "    for row in board:\n",
    "        for item in row:\n",
    "            print(item, ' ', end='')\n",
    "        print()"
   ]
  },
  {
   "cell_type": "code",
   "execution_count": 54,
   "id": "e1d3d2fa",
   "metadata": {},
   "outputs": [
    {
     "name": "stdout",
     "output_type": "stream",
     "text": [
      "0  0  0  0  0  0  0  0  \n",
      "0  0  0  0  0  0  0  0  \n",
      "0  0  0  0  0  0  0  0  \n",
      "0  0  0  0  0  0  0  0  \n",
      "0  0  0  0  0  0  0  0  \n",
      "0  0  0  0  0  0  0  0  \n",
      "0  0  0  0  0  0  0  0  \n",
      "0  0  0  0  0  0  0  0  \n"
     ]
    }
   ],
   "source": [
    "pp_board(board)"
   ]
  },
  {
   "cell_type": "code",
   "execution_count": 55,
   "id": "b048e9b8",
   "metadata": {},
   "outputs": [],
   "source": [
    "def is_valid_move(row, col):\n",
    "    for i in range(0, row+1):\n",
    "        if board[i][col]==1:\n",
    "            return False\n",
    "    \n",
    "    for i in range(0, col+1):\n",
    "        if board[row][i]==1:\n",
    "            return False\n",
    "    \n",
    "    for p in zip(range(row, -1, -1), range(col, -1, -1)):\n",
    "        i, j = p\n",
    "        if(board[i][j]==1):\n",
    "            return False\n",
    "        \n",
    "    for p in zip(range(row, -1, -1), range(col, n, 1)):\n",
    "        i, j = p\n",
    "        if(board[i][j]==1):\n",
    "            return False\n",
    "        \n",
    "    return True"
   ]
  },
  {
   "cell_type": "code",
   "execution_count": 56,
   "id": "610382e9",
   "metadata": {},
   "outputs": [],
   "source": [
    "def nQueen(r):\n",
    "    if r==n:\n",
    "        return True\n",
    "    \n",
    "    for c in range(n):\n",
    "        if is_valid_move(r, c):\n",
    "            board[r][c]=1\n",
    "            \n",
    "            if nQueen(r+1):\n",
    "                return True\n",
    "            \n",
    "            board[r][c]=0\n",
    "    \n",
    "    return False"
   ]
  },
  {
   "cell_type": "code",
   "execution_count": 57,
   "id": "f97edc15",
   "metadata": {},
   "outputs": [
    {
     "data": {
      "text/plain": [
       "True"
      ]
     },
     "execution_count": 57,
     "metadata": {},
     "output_type": "execute_result"
    }
   ],
   "source": [
    "nQueen(0)"
   ]
  },
  {
   "cell_type": "code",
   "execution_count": 58,
   "id": "974b604f",
   "metadata": {},
   "outputs": [
    {
     "name": "stdout",
     "output_type": "stream",
     "text": [
      "1  0  0  0  0  0  0  0  \n",
      "0  0  0  0  1  0  0  0  \n",
      "0  0  0  0  0  0  0  1  \n",
      "0  0  0  0  0  1  0  0  \n",
      "0  0  1  0  0  0  0  0  \n",
      "0  0  0  0  0  0  1  0  \n",
      "0  1  0  0  0  0  0  0  \n",
      "0  0  0  1  0  0  0  0  \n"
     ]
    }
   ],
   "source": [
    "pp_board(board)"
   ]
  },
  {
   "cell_type": "code",
   "execution_count": null,
   "id": "2e804f6f",
   "metadata": {},
   "outputs": [],
   "source": []
  },
  {
   "cell_type": "code",
   "execution_count": null,
   "id": "700b0308",
   "metadata": {},
   "outputs": [],
   "source": []
  }
 ],
 "metadata": {
  "kernelspec": {
   "display_name": "Python 3 (ipykernel)",
   "language": "python",
   "name": "python3"
  },
  "language_info": {
   "codemirror_mode": {
    "name": "ipython",
    "version": 3
   },
   "file_extension": ".py",
   "mimetype": "text/x-python",
   "name": "python",
   "nbconvert_exporter": "python",
   "pygments_lexer": "ipython3",
   "version": "3.9.7"
  }
 },
 "nbformat": 4,
 "nbformat_minor": 5
}
