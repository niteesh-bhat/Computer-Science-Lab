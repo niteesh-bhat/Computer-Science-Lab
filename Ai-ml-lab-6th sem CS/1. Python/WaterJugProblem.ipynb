{
 "cells": [
  {
   "cell_type": "code",
   "execution_count": 13,
   "id": "d95897fc",
   "metadata": {},
   "outputs": [],
   "source": [
    "class WaterJug:\n",
    "    def __init__(self, jug_capacity, goal_state):\n",
    "        self.jug_capacity=jug_capacity\n",
    "        self.goal_state=goal_state\n",
    "        \n",
    "        \n",
    "    def is_goal_state(self, state):\n",
    "        return state==self.goal_state\n",
    "    \n",
    "    def dfs(self):\n",
    "        solutions=[]\n",
    "        \n",
    "        def _dfs(path, seen):\n",
    "            if(self.is_goal_state(path[-1])):\n",
    "                solutions.append(path)\n",
    "                return\n",
    "            \n",
    "            def proceed(new_state):\n",
    "                if new_state not in seen:\n",
    "                    seen.add(new_state)\n",
    "                    _dfs(path+[new_state], seen.copy())\n",
    "\n",
    "\n",
    "            curr_state=path[-1]\n",
    "\n",
    "    #         fill left jug\n",
    "            new_state=(self.jug_capacity[0], curr_state[1])\n",
    "            proceed(new_state)\n",
    "\n",
    "    #         fill right jug\n",
    "            new_state=(curr_state[0], self.jug_capacity[1])\n",
    "            proceed(new_state)\n",
    "\n",
    "    #         empty left jug\n",
    "            new_state=(0, curr_state[1])\n",
    "            proceed(new_state)\n",
    "\n",
    "    #         empty right jug\n",
    "            new_state=(curr_state[0], 0)\n",
    "            proceed(new_state)\n",
    "\n",
    "    #         transfer from left to right jug\n",
    "            rc=self.jug_capacity[1]-curr_state[1] # rc=remaining capacity in right\n",
    "            if rc>=curr_state[0]:\n",
    "                new_state=(0, curr_state[0]+curr_state[1])\n",
    "            else:\n",
    "                new_state=(curr_state[0]-rc, self.jug_capacity[1])\n",
    "            proceed(new_state)\n",
    "\n",
    "    #         transfer from left to right jug\n",
    "            lc=self.jug_capacity[0]-curr_state[0] # lc=remaining capacity in left\n",
    "            if lc>=curr_state[1]:\n",
    "                new_state=(curr_state[0]+curr_state[1], 0)\n",
    "            else:\n",
    "                new_state=(self.jug_capacity[0], curr_state[1]-lc)\n",
    "            proceed(new_state)\n",
    "\n",
    "\n",
    "        _dfs([(0,0)], set([(0,0)]))\n",
    "        \n",
    "        \n",
    "        return solutions"
   ]
  },
  {
   "cell_type": "code",
   "execution_count": 14,
   "id": "1641b76d",
   "metadata": {},
   "outputs": [],
   "source": [
    "def main():\n",
    "    WJ=WaterJug((4,3), (2,0))\n",
    "    solutions=WJ.dfs()\n",
    "    \n",
    "    for soln in solutions:\n",
    "        print(soln)"
   ]
  },
  {
   "cell_type": "code",
   "execution_count": 16,
   "id": "bf92c001",
   "metadata": {
    "scrolled": true
   },
   "outputs": [
    {
     "name": "stdout",
     "output_type": "stream",
     "text": [
      "[(0, 0), (4, 0), (4, 3), (0, 3), (3, 0), (3, 3), (4, 2), (0, 2), (2, 0)]\n",
      "[(0, 0), (4, 0), (1, 3), (0, 3), (3, 0), (3, 3), (4, 2), (0, 2), (2, 0)]\n",
      "[(0, 0), (4, 0), (1, 3), (1, 0), (0, 1), (4, 1), (2, 3), (2, 0)]\n",
      "[(0, 0), (0, 3), (3, 0), (3, 3), (4, 2), (0, 2), (2, 0)]\n"
     ]
    }
   ],
   "source": [
    "main()"
   ]
  },
  {
   "cell_type": "code",
   "execution_count": null,
   "id": "d4e6e94b",
   "metadata": {},
   "outputs": [],
   "source": []
  }
 ],
 "metadata": {
  "kernelspec": {
   "display_name": "Python 3 (ipykernel)",
   "language": "python",
   "name": "python3"
  },
  "language_info": {
   "codemirror_mode": {
    "name": "ipython",
    "version": 3
   },
   "file_extension": ".py",
   "mimetype": "text/x-python",
   "name": "python",
   "nbconvert_exporter": "python",
   "pygments_lexer": "ipython3",
   "version": "3.9.7"
  }
 },
 "nbformat": 4,
 "nbformat_minor": 5
}
